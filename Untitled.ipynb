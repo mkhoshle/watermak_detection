{
 "cells": [
  {
   "cell_type": "code",
   "execution_count": null,
   "id": "efbf2e0b-796d-4319-af8c-e1220146d6f8",
   "metadata": {},
   "outputs": [],
   "source": [
    "%matplotlib inline\n",
    "from src.estimate_watermark import *\n",
    "from src.preprocess import *\n",
    "from src.image_crawler import *\n",
    "from src.watermark_reconstruct import *"
   ]
  },
  {
   "cell_type": "code",
   "execution_count": null,
   "id": "c51fcdaf-20a1-4cd2-bf65-493a5b93a499",
   "metadata": {},
   "outputs": [],
   "source": [
    "gx, gy, gxlist, gylist = estimate_watermark('final')\n",
    "\n",
    "# est = poisson_reconstruct(gx, gy, np.zeros(gx.shape)[:,:,0])\n",
    "cropped_gx, cropped_gy = crop_watermark(gx, gy)\n",
    "W_m, _ = poisson_reconstruct(cropped_gx, cropped_gy)\n",
    "\n",
    "# random photo\n",
    "img = cv2.imread('final/fotolia_168668150.jpg')\n",
    "im, start, end = watermark_detector(img, cropped_gx, cropped_gy)\n",
    "\n",
    "# plt.imshow(im)\n",
    "# plt.show()\n",
    "# We are done with watermark estimation\n",
    "# W_m is the cropped watermark\n",
    "num_images = len(gxlist)\n",
    "\n",
    "J, img_paths = get_cropped_images('final', num_images, start, end, cropped_gx.shape)\n",
    "# get a random subset of J\n",
    "idx = [389, 144, 147, 468, 423, 92, 3, 354, 196, 53, 470, 445, 314, 349, 105, 366, 56, 168, 351, 15, 465, 368, 90, 96, 202, 54, 295, 137, 17, 79, 214, 413, 454, 305, 187, 4, 458, 330, 290, 73, 220, 118, 125, 180, 247, 243, 257, 194, 117, 320, 104, 252, 87, 95, 228, 324, 271, 398, 334, 148, 425, 190, 78, 151, 34, 310, 122, 376, 102, 260]\n",
    "idx = idx[:25]\n",
    "# Wm = (255*PlotImage(W_m))\n",
    "Wm = W_m - W_m.min()"
   ]
  },
  {
   "cell_type": "code",
   "execution_count": null,
   "id": "1fbc35a4-0640-4e8c-9348-6431277eec4d",
   "metadata": {},
   "outputs": [],
   "source": [
    "np.shape(Wm)"
   ]
  },
  {
   "cell_type": "code",
   "execution_count": null,
   "id": "0924477e-566d-4c02-b0b3-65d644a1cc6c",
   "metadata": {},
   "outputs": [],
   "source": [
    "plt.figure(figsize=(3, 6), dpi= 80)\n",
    "plt.imshow(PlotImage(Wm))"
   ]
  },
  {
   "cell_type": "code",
   "execution_count": null,
   "id": "df1b0f77-7c11-4b8b-b1bd-a3de4b1c967e",
   "metadata": {
    "tags": []
   },
   "outputs": [],
   "source": [
    "# get threshold of W_m for alpha matte estimate\n",
    "alph_est = estimate_normalized_alpha(J, Wm)\n",
    "alph = np.stack([alph_est, alph_est, alph_est], axis=2)\n",
    "C, est_Ik = estimate_blend_factor(J, Wm, alph)"
   ]
  },
  {
   "cell_type": "code",
   "execution_count": null,
   "id": "adc7d139-af1a-4d42-a24e-49249109f774",
   "metadata": {},
   "outputs": [],
   "source": [
    "alpha = alph.copy()\n",
    "for i in range(3):\n",
    "\talpha[:,:,i] = C[i]*alpha[:,:,i]\n",
    "\n",
    "Wm = Wm + alpha*est_Ik"
   ]
  },
  {
   "cell_type": "code",
   "execution_count": null,
   "id": "3074e9fb-fca6-4af0-878a-0fbd1326f09b",
   "metadata": {},
   "outputs": [],
   "source": [
    "plt.imshow(PlotImage(Wm))"
   ]
  },
  {
   "cell_type": "code",
   "execution_count": null,
   "id": "6a45da8e-a0e7-4fe3-888c-1a9bec115e5b",
   "metadata": {},
   "outputs": [],
   "source": [
    "W = Wm.copy()\n",
    "for i in range(3):\n",
    "\tW[:,:,i]/=C[i]\n",
    "\n",
    "Jt = J[:25]\n",
    "# now we have the values of alpha, Wm, J\n",
    "# Solve for all images\n",
    "Wk, Ik, W, alpha1 = solve_images(Jt, W_m, alpha, W)"
   ]
  },
  {
   "cell_type": "code",
   "execution_count": null,
   "id": "a793d93f-38ef-4b8b-8803-17720bd05524",
   "metadata": {},
   "outputs": [],
   "source": []
  }
 ],
 "metadata": {
  "kernelspec": {
   "display_name": "Python 3",
   "language": "python",
   "name": "python3"
  },
  "language_info": {
   "codemirror_mode": {
    "name": "ipython",
    "version": 3
   },
   "file_extension": ".py",
   "mimetype": "text/x-python",
   "name": "python",
   "nbconvert_exporter": "python",
   "pygments_lexer": "ipython3",
   "version": "3.6.13"
  }
 },
 "nbformat": 4,
 "nbformat_minor": 5
}
